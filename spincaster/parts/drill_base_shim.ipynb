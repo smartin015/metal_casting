{
 "cells": [
  {
   "cell_type": "code",
   "execution_count": 6,
   "id": "25c1462a-8c5d-4fa5-bdec-03635da85a6f",
   "metadata": {
    "tags": []
   },
   "outputs": [
    {
     "name": "stdout",
     "output_type": "stream",
     "text": [
      "Overwriting auto display for cadquery Workplane and Shape\n"
     ]
    },
    {
     "name": "stderr",
     "output_type": "stream",
     "text": [
      "/home/semartin/miniconda3/envs/jcq22/lib/python3.8/site-packages/jupyter_client/session.py:716: UserWarning: Message serialization failed with:\n",
      "Out of range float values are not JSON compliant\n",
      "Supporting this message is deprecated in jupyter-client 7, please make sure your message is JSON-compliant\n",
      "  content = self.pack(content)\n"
     ]
    },
    {
     "data": {
      "text/html": [
       "<style>\n",
       ".scroll-area {\n",
       "    overflow: scroll !important;\n",
       "    border: unset !important;\n",
       "}\n",
       "\n",
       ".mac-scrollbar::-webkit-scrollbar {\n",
       "    width: 5px !important;\n",
       "    height: 5px !important;\n",
       "}\n",
       "\n",
       ".mac-scrollbar::-webkit-scrollbar-track {\n",
       "    background-color: transparent !important;\n",
       "}\n",
       "\n",
       ".mac-scrollbar .widget-html-content {\n",
       "    overflow-x: visible;\n",
       "    overflow-y: visible;\n",
       "}\n",
       "\n",
       ".tab-content-no-padding .widget-tab-contents {\n",
       "    overflow-x: visible !important;\n",
       "    overflow-y: visible !important;\n",
       "    padding-bottom: 0px !important;\n",
       "}\n",
       "\n",
       ".view_renderer {\n",
       "    border: 1px solid var(--jp-border-color1);\n",
       "    margin-top: 3px;\n",
       "    margin-left: 2px;\n",
       "}\n",
       "\n",
       ".view_tree {\n",
       "    padding: 0px !important;\n",
       "}\n",
       "\n",
       ".view_axes {\n",
       "    width: 60px !important;\n",
       "    margin-left: 5px !important;\n",
       "}\n",
       "\n",
       ".view_zero {\n",
       "    width: 55px !important;\n",
       "}\n",
       "\n",
       ".view_grid {\n",
       "    width: 56px !important;\n",
       "}\n",
       "\n",
       ".view_ortho {\n",
       "    width: 64px !important;\n",
       "}\n",
       "\n",
       ".view_transparent {\n",
       "    width: 125px !important;\n",
       "}\n",
       "\n",
       ".view_black_edges {\n",
       "    width: 105px !important;\n",
       "}\n",
       "\n",
       ".view_button {\n",
       "    padding: 0px !important;\n",
       "}\n",
       "\n",
       ".view_button>img {\n",
       "    height: 28px;\n",
       "    width: 36px;\n",
       "}\n",
       "\n",
       ".node_entry_wrap {\n",
       "    white-space: pre;\n",
       "}\n",
       "\n",
       ".node_entry {\n",
       "    white-space: nowrap;\n",
       "    padding-top: 4px;\n",
       "}\n",
       "\n",
       ".t-caret {\n",
       "    cursor: pointer;\n",
       "    -webkit-user-select: none;\n",
       "    /* Safari 3.1+ */\n",
       "    -moz-user-select: none;\n",
       "    /* Firefox 2+ */\n",
       "    -ms-user-select: none;\n",
       "    /* IE 10+ */\n",
       "    user-select: none;\n",
       "}\n",
       "\n",
       ".t-caret-down::before {\n",
       "    -ms-transform: rotate(90deg);\n",
       "    /* IE 9 */\n",
       "    -webkit-transform: rotate(90deg);\n",
       "    /* Safari */\n",
       "    transform: rotate(90deg);\n",
       "}\n",
       "\n",
       ".toplevel {\n",
       "    list-style-type: none;\n",
       "    padding-inline-start: 0px;\n",
       "}\n",
       "\n",
       ".nested {\n",
       "    display: none;\n",
       "    list-style-type: none;\n",
       "    padding-inline-start: 16px;\n",
       "}\n",
       "\n",
       ".active {\n",
       "    display: block;\n",
       "}\n",
       "\n",
       ".icon {\n",
       "    width: 28px !important;\n",
       "    height: 22px !important;\n",
       "    padding-right: 2px;\n",
       "    vertical-align: middle;\n",
       "}\n",
       "\n",
       ".indent {\n",
       "    margin-left: 12px;\n",
       "}\n",
       "\n",
       ".tree_label {\n",
       "    padding-left: 2px;\n",
       "    font-size: 14px;\n",
       "}\n",
       "\n",
       ".scroll_down {\n",
       "    display: flex;\n",
       "    flex-direction: column-reverse;\n",
       "}\n",
       "\n",
       ".small_table {\n",
       "    line-height: 14px;\n",
       "}\n",
       "\n",
       ".monospace select {\n",
       "    font-family: monospace;\n",
       "}\n",
       "\n",
       "        .t-caret::before {\n",
       "            content: u\"▶\";\n",
       "            font-size: 12px;\n",
       "            color: #e0e0e0;\n",
       "            display: inline-block;\n",
       "            margin-right: 2px;\n",
       "        }\n",
       "\n",
       "        .mac-scrollbar::-webkit-scrollbar-thumb {\n",
       "            background-color: rgba(255, 255, 255, 0.3) !important;\n",
       "            border-radius: 100px !important;\n",
       "        }\n",
       "\n",
       "        .mac-scrollbar::-webkit-scrollbar-thumb:hover {\n",
       "            background: rgba(255, 255, 255, 0.5) !important;\n",
       "        }\n",
       "\n",
       "        .mac-scrollbar::-webkit-scrollbar-thumb:active {\n",
       "            background: #e0e0e0 !important;\n",
       "        }\n",
       "\n",
       "        .mac-scrollbar::-webkit-scrollbar-corner {\n",
       "            background: #212121;\n",
       "        }\n",
       "\n",
       "        .view_output {\n",
       "            border: 1px solid var(--jp-border-color1);\n",
       "            margin: 2px 2px 2px 2px !important;\n",
       "            padding-right: 1px !important;\n",
       "            background-color: #212121;\n",
       "        }\n",
       "    </style>"
      ],
      "text/plain": [
       "<IPython.core.display.HTML object>"
      ]
     },
     "metadata": {},
     "output_type": "display_data"
    }
   ],
   "source": [
    "from jupyter_cadquery import set_defaults, set_sidecar\n",
    "from jupyter_cadquery.cadquery import (PartGroup, Part, show as show_object)\n",
    "\n",
    "set_defaults(theme=\"dark\")\n",
    "set_sidecar(\"CadQuery\", init=True)\n",
    "import cadquery as cq\n"
   ]
  },
  {
   "cell_type": "code",
   "execution_count": null,
   "id": "7f942c7a-3d9c-4eb1-af17-d5f00655b3d1",
   "metadata": {
    "tags": [
     "head"
    ]
   },
   "outputs": [],
   "source": []
  },
  {
   "cell_type": "code",
   "execution_count": 47,
   "id": "37c54d0b-9430-4228-9a25-0c8e0b6c46cf",
   "metadata": {
    "tags": [
     "body"
    ]
   },
   "outputs": [
    {
     "name": "stdout",
     "output_type": "stream",
     "text": [
      "Done, using side car 'Cadquery'\n"
     ]
    }
   ],
   "source": [
    "MOUNT_HOLE = [75, 5.5] # c2c, voffs, dia\n",
    "BLOCK_DIM = [1.42*25.4 + 8.5, 81, MOUNT_HOLE[0]+MOUNT_HOLE[1]+2*THICK]\n",
    "SLOPE = 5 #degrees\n",
    "BASE = [8.5, 81, 130]\n",
    "THICK = 4\n",
    "\n",
    "\n",
    "W = cq.Workplane()\n",
    "FTF = [False, True, False]\n",
    "\n",
    "shim = (W.box(*BLOCK_DIM, centered=FTF)\n",
    "        .faces(\"<X\").workplane().pushPoints([\n",
    "            (0, BLOCK_DIM[2]/2 + MOUNT_HOLE[0]/2),\n",
    "            (0, BLOCK_DIM[2]/2 -MOUNT_HOLE[0]/2)\n",
    "        ]).hole(MOUNT_HOLE[1])\n",
    "        .workplane().transformed(offset=(0, 0, -BLOCK_DIM[0]/2), rotate=(SLOPE, 0,0)).split(keepTop=True)\n",
    "        .edges(\"|X\").fillet(THICK)\n",
    "       )\n",
    "# shim = shim.rotate((0,0,0), (0,1,0), -90)\n",
    "# PartGroup([Part(p) for p in [shim, drill_base]]) # = shim.rotate((0,0,0),(1,0,0),90)\n",
    "shim\n",
    "\n",
    "\n"
   ]
  },
  {
   "cell_type": "markdown",
   "id": "5eb3507c-608b-4863-ad27-d78758e94590",
   "metadata": {
    "tags": [
     "desc",
     "1"
    ]
   },
   "source": [
    "# TTGO Display Cover\n",
    "\n",
    "Covers the TTGO T-Display board used in the spincaster control panel"
   ]
  },
  {
   "cell_type": "code",
   "execution_count": null,
   "id": "8c1b8304-7d2a-4644-ad88-c4d2efe53f03",
   "metadata": {
    "tags": [
     "output",
     "1"
    ]
   },
   "outputs": [],
   "source": [
    "show_object(button)"
   ]
  },
  {
   "cell_type": "code",
   "execution_count": 5,
   "id": "0baeb792-726d-43fe-93e6-12ba7b5d5b93",
   "metadata": {},
   "outputs": [
    {
     "data": {
      "application/vnd.jupyter.widget-view+json": {
       "model_id": "a7f1c130dc324e739ad890671792905b",
       "version_major": 2,
       "version_minor": 0
      },
      "text/plain": [
       "Checkbox(value=False, description='Upload to Queue', indent=False)"
      ]
     },
     "metadata": {},
     "output_type": "display_data"
    }
   ],
   "source": [
    "from ipywidgets import Checkbox\n",
    "qbox = Checkbox(\n",
    " value=False,\n",
    " description='Upload to Queue',\n",
    " disabled=False,\n",
    " indent=False # Indents the checkbox by 1 level\n",
    ")\n",
    "display(qbox)"
   ]
  },
  {
   "cell_type": "code",
   "execution_count": 48,
   "id": "64b25398-f257-426a-806d-0f122362a5b5",
   "metadata": {},
   "outputs": [
    {
     "name": "stdout",
     "output_type": "stream",
     "text": [
      "done\n"
     ]
    }
   ],
   "source": [
    "from pathlib import Path; path = str(Path.home() / \"Downloads/spincaster_drill_shim.stl\")\n",
    "from mkr3d.commands import post\n",
    "cq.exporters.export(shim, path)\n",
    "# post(path, slice=True, queue=qbox, publish=True)\n",
    "print(\"done\")"
   ]
  }
 ],
 "metadata": {
  "kernelspec": {
   "display_name": "Python 3 (ipykernel)",
   "language": "python",
   "name": "python3"
  },
  "language_info": {
   "codemirror_mode": {
    "name": "ipython",
    "version": 3
   },
   "file_extension": ".py",
   "mimetype": "text/x-python",
   "name": "python",
   "nbconvert_exporter": "python",
   "pygments_lexer": "ipython3",
   "version": "3.8.12"
  },
  "widgets": {
   "application/vnd.jupyter.widget-state+json": {
    "state": {},
    "version_major": 2,
    "version_minor": 0
   }
  }
 },
 "nbformat": 4,
 "nbformat_minor": 5
}
